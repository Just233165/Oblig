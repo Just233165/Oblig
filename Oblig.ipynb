{
 "cells": [
  {
   "cell_type": "markdown",
   "metadata": {},
   "source": [
    "LINEEAR ALGEBRA APPLICATION: LEAST SQUARES REGRESSION"
   ]
  },
  {
   "cell_type": "code",
   "execution_count": 3,
   "metadata": {},
   "outputs": [],
   "source": [
    "import numpy as np\n",
    "import matplotlib.pyplot as plt\n",
    "import pandas as pd"
   ]
  },
  {
   "cell_type": "markdown",
   "metadata": {},
   "source": [
    "First we applied the needed packages to read the data into a dataframe."
   ]
  },
  {
   "cell_type": "markdown",
   "metadata": {},
   "source": [
    "The we gathered/generated some informatiion from a dataset with some form of correlation and brought it into Python."
   ]
  },
  {
   "cell_type": "code",
   "execution_count": 4,
   "metadata": {},
   "outputs": [
    {
     "name": "stdout",
     "output_type": "stream",
     "text": [
      "     Konstant      Height     Weight  Number1  Number2  Number3\n",
      "0           1  174.000000  70.000000        1        1        1\n",
      "1           1  202.000000  99.000000        1        1        0\n",
      "2           1  182.333333  82.000000        1        1        1\n",
      "3           1  184.000000  75.000000        1        1        1\n",
      "4           1  180.666667  80.333333        1        1        1\n",
      "5           1  180.000000  59.000000        1        1        1\n",
      "6           1  169.666667  71.000000        0        1        1\n",
      "7           1  192.000000  81.000000        1        1        0\n",
      "8           1  186.666667  74.000000        1        1        1\n",
      "9           1  187.666667  85.000000        1        1        1\n",
      "10          1  181.333333  73.666667        1        1        1\n",
      "11          1  180.666667  68.000000        1        1        0\n",
      "12          1  178.666667  61.666667        1        1        0\n",
      "13          1  158.000000  44.000000        0        0        0\n",
      "14          1  170.000000  69.000000        0        0        0\n",
      "15          1  172.000000  56.000000        0        0        0\n",
      "16          1  171.333333  76.666667        0        0        0\n",
      "17          1  160.666667  55.000000        0        0        0\n",
      "18          1  179.666667  77.333333        1        0        0\n",
      "19          1  167.666667  60.000000        0        0        1\n",
      "20          1  168.000000  76.000000        0        0        1\n",
      "21          1  159.000000  56.000000        0        0        0\n",
      "22          1  188.666667  73.000000        1        0        1\n",
      "23          1  166.000000  65.000000        0        0        1\n",
      "24          1  163.000000  73.000000        0        0        1\n",
      "25          1  176.000000  55.000000        0        0        1\n",
      "26          1  176.000000  64.000000        1        0        1\n",
      "27          1  190.666667  86.000000        1        0        1\n",
      "28          1  167.000000  52.666667        0        0        1\n",
      "29          1  170.333333  59.000000        0        1        1\n",
      "30          1  162.000000  55.333333        0        1        0\n",
      "31          1  170.333333  63.000000        1        1        1\n",
      "32          1  162.000000  53.333333        0        1        0\n",
      "33          1  176.666667  64.666667        1        1        0\n",
      "34          1  180.000000  78.000000        1        1        0\n",
      "35          1  184.333333  74.000000        1        1        0\n",
      "36          1  170.000000  55.000000        0        1        1\n",
      "37          1  165.000000  54.666667        0        1        0\n",
      "38          1  168.666667  55.000000        0        1        1\n",
      "39          1  185.666667  64.000000        0        1        1\n",
      "40          1  170.000000  60.000000        1        1        0\n",
      "41          1  173.666667  61.000000        1        1        1\n",
      "42          1  177.333333  67.000000        1        1        1\n",
      "43          1  176.666667  68.000000        1        1        1\n",
      "44          1  191.333333  91.000000        1        1        0\n",
      "45          1  178.000000  69.000000        0        1        1\n",
      "46          1  167.333333  60.000000        0        1        0\n",
      "47          1  153.333333  56.000000        0        1        1\n",
      "48          1  190.000000  80.000000        1        1        0\n"
     ]
    }
   ],
   "source": [
    "df1 = pd.read_excel(r'C:\\VS-Python\\LAB\\Oblig\\200_ok.xlsx')\n",
    "print(df1)"
   ]
  },
  {
   "cell_type": "markdown",
   "metadata": {},
   "source": [
    "Then we constructed a scatterplot to see the estimated covariance in the data. Here we used 'Height' as our x value and 'Weight' as our y value."
   ]
  },
  {
   "cell_type": "code",
   "execution_count": 5,
   "metadata": {},
   "outputs": [
    {
     "data": {
      "text/plain": [
       "<AxesSubplot:xlabel='Height', ylabel='Weight'>"
      ]
     },
     "execution_count": 5,
     "metadata": {},
     "output_type": "execute_result"
    },
    {
     "data": {
      "image/png": "[encoded data removed]",
      "text/plain": [
       "<Figure size 432x288 with 1 Axes>"
      ]
     },
     "metadata": {
      "needs_background": "light"
     },
     "output_type": "display_data"
    }
   ],
   "source": [
    "df1.plot.scatter(x=\"Height\", y=\"Weight\")"
   ]
  },
  {
   "cell_type": "markdown",
   "metadata": {},
   "source": [
    "We define our x- and y-values as np arrays to make an array. Which is a grid of values so that we easily can gather data about our variables."
   ]
  },
  {
   "cell_type": "code",
   "execution_count": 6,
   "metadata": {},
   "outputs": [],
   "source": [
    "y = np.array(df1.Weight)\n",
    "x = np.array(df1.Height)"
   ]
  },
  {
   "cell_type": "markdown",
   "metadata": {},
   "source": [
    "Next we take our values and estimate the covariance and the variance. We used the built in covariance function np.cov."
   ]
  },
  {
   "cell_type": "code",
   "execution_count": 7,
   "metadata": {},
   "outputs": [
    {
     "data": {
      "text/plain": [
       "93.23346560846562"
      ]
     },
     "execution_count": 7,
     "metadata": {},
     "output_type": "execute_result"
    }
   ],
   "source": [
    "\n",
    "var_x = np.var(x)\n",
    "var_y = np.var(y)\n",
    "\n",
    "cov_xy = np.cov([x,y])\n",
    "\n",
    "cov_xy \n",
    "\n",
    "cov_xy = cov_xy[0,1]\n",
    "cov_xy"
   ]
  },
  {
   "cell_type": "markdown",
   "metadata": {},
   "source": [
    "From there we estimated our coefficients by dividing the covariance on the product of the two variables' standard deviations."
   ]
  },
  {
   "cell_type": "code",
   "execution_count": 8,
   "metadata": {},
   "outputs": [
    {
     "name": "stdout",
     "output_type": "stream",
     "text": [
      "beta_0:  -89.35943286503009 beta_1:  0.8950553859445385\n"
     ]
    }
   ],
   "source": [
    "beta_1 = cov_xy/var_x\n",
    "beta_0 = np.mean(y) - beta_1*np.mean(x)\n",
    "print(\"beta_0: \", beta_0, \"beta_1: \", beta_1 )"
   ]
  },
  {
   "cell_type": "markdown",
   "metadata": {},
   "source": [
    "With these beta values we can now add them to create our fitted values as y_hat and put the m together with our scatterdata to see the least square regression model."
   ]
  },
  {
   "cell_type": "code",
   "execution_count": 9,
   "metadata": {},
   "outputs": [],
   "source": [
    "y_hat = beta_0 + beta_1*x"
   ]
  },
  {
   "cell_type": "code",
   "execution_count": 10,
   "metadata": {},
   "outputs": [
    {
     "data": {
      "text/plain": [
       "Text(0, 0.5, 'Weight')"
      ]
     },
     "execution_count": 10,
     "metadata": {},
     "output_type": "execute_result"
    },
    {
     "data": {
      "image/png": "[encoded data removed]",
      "text/plain": [
       "<Figure size 432x288 with 1 Axes>"
      ]
     },
     "metadata": {
      "needs_background": "light"
     },
     "output_type": "display_data"
    }
   ],
   "source": [
    "fig, ax = plt.subplots()\n",
    "ax.scatter(x=x, y=y)\n",
    "ax.plot(x, y_hat, color=\"red\")\n",
    "ax.set_xlabel(\"Height\")\n",
    "ax.set_ylabel(\"Weight\")"
   ]
  },
  {
   "cell_type": "markdown",
   "metadata": {},
   "source": [
    "MATRIX ALGEBRA"
   ]
  },
  {
   "cell_type": "markdown",
   "metadata": {},
   "source": [
    "We bring in the dataset and add a constant value."
   ]
  },
  {
   "cell_type": "code",
   "execution_count": 11,
   "metadata": {},
   "outputs": [
    {
     "data": {
      "text/plain": [
       "array([[ 1.        , 70.        ,  1.        ,  1.        ,  1.        ],\n",
       "       [ 1.        , 99.        ,  1.        ,  1.        ,  0.        ],\n",
       "       [ 1.        , 82.        ,  1.        ,  1.        ,  1.        ],\n",
       "       [ 1.        , 75.        ,  1.        ,  1.        ,  1.        ],\n",
       "       [ 1.        , 80.33333333,  1.        ,  1.        ,  1.        ],\n",
       "       [ 1.        , 59.        ,  1.        ,  1.        ,  1.        ],\n",
       "       [ 1.        , 71.        ,  0.        ,  1.        ,  1.        ],\n",
       "       [ 1.        , 81.        ,  1.        ,  1.        ,  0.        ],\n",
       "       [ 1.        , 74.        ,  1.        ,  1.        ,  1.        ],\n",
       "       [ 1.        , 85.        ,  1.        ,  1.        ,  1.        ],\n",
       "       [ 1.        , 73.66666667,  1.        ,  1.        ,  1.        ],\n",
       "       [ 1.        , 68.        ,  1.        ,  1.        ,  0.        ],\n",
       "       [ 1.        , 61.66666667,  1.        ,  1.        ,  0.        ],\n",
       "       [ 1.        , 44.        ,  0.        ,  0.        ,  0.        ],\n",
       "       [ 1.        , 69.        ,  0.        ,  0.        ,  0.        ],\n",
       "       [ 1.        , 56.        ,  0.        ,  0.        ,  0.        ],\n",
       "       [ 1.        , 76.66666667,  0.        ,  0.        ,  0.        ],\n",
       "       [ 1.        , 55.        ,  0.        ,  0.        ,  0.        ],\n",
       "       [ 1.        , 77.33333333,  1.        ,  0.        ,  0.        ],\n",
       "       [ 1.        , 60.        ,  0.        ,  0.        ,  1.        ],\n",
       "       [ 1.        , 76.        ,  0.        ,  0.        ,  1.        ],\n",
       "       [ 1.        , 56.        ,  0.        ,  0.        ,  0.        ],\n",
       "       [ 1.        , 73.        ,  1.        ,  0.        ,  1.        ],\n",
       "       [ 1.        , 65.        ,  0.        ,  0.        ,  1.        ],\n",
       "       [ 1.        , 73.        ,  0.        ,  0.        ,  1.        ],\n",
       "       [ 1.        , 55.        ,  0.        ,  0.        ,  1.        ],\n",
       "       [ 1.        , 64.        ,  1.        ,  0.        ,  1.        ],\n",
       "       [ 1.        , 86.        ,  1.        ,  0.        ,  1.        ],\n",
       "       [ 1.        , 52.66666667,  0.        ,  0.        ,  1.        ],\n",
       "       [ 1.        , 59.        ,  0.        ,  1.        ,  1.        ],\n",
       "       [ 1.        , 55.33333333,  0.        ,  1.        ,  0.        ],\n",
       "       [ 1.        , 63.        ,  1.        ,  1.        ,  1.        ],\n",
       "       [ 1.        , 53.33333333,  0.        ,  1.        ,  0.        ],\n",
       "       [ 1.        , 64.66666667,  1.        ,  1.        ,  0.        ],\n",
       "       [ 1.        , 78.        ,  1.        ,  1.        ,  0.        ],\n",
       "       [ 1.        , 74.        ,  1.        ,  1.        ,  0.        ],\n",
       "       [ 1.        , 55.        ,  0.        ,  1.        ,  1.        ],\n",
       "       [ 1.        , 54.66666667,  0.        ,  1.        ,  0.        ],\n",
       "       [ 1.        , 55.        ,  0.        ,  1.        ,  1.        ],\n",
       "       [ 1.        , 64.        ,  0.        ,  1.        ,  1.        ],\n",
       "       [ 1.        , 60.        ,  1.        ,  1.        ,  0.        ],\n",
       "       [ 1.        , 61.        ,  1.        ,  1.        ,  1.        ],\n",
       "       [ 1.        , 67.        ,  1.        ,  1.        ,  1.        ],\n",
       "       [ 1.        , 68.        ,  1.        ,  1.        ,  1.        ],\n",
       "       [ 1.        , 91.        ,  1.        ,  1.        ,  0.        ],\n",
       "       [ 1.        , 69.        ,  0.        ,  1.        ,  1.        ],\n",
       "       [ 1.        , 60.        ,  0.        ,  1.        ,  0.        ],\n",
       "       [ 1.        , 56.        ,  0.        ,  1.        ,  1.        ],\n",
       "       [ 1.        , 80.        ,  1.        ,  1.        ,  0.        ]])"
      ]
     },
     "execution_count": 11,
     "metadata": {},
     "output_type": "execute_result"
    }
   ],
   "source": [
    "df1 = df1.dropna(subset=['Height', 'Weight', 'Number1', 'Number2','Number3']).copy()\n",
    "\n",
    "df1[\"Konstant\"] = 1\n",
    "\n",
    "y = np.array(df1.loc[:,'Height'])\n",
    "X = np.array(df1.loc[:,['Konstant', 'Weight', 'Number1', 'Number2','Number3']])\n",
    "X"
   ]
  },
  {
   "cell_type": "markdown",
   "metadata": {},
   "source": [
    "Now we will do our matrix algebra calculations to get our estimated betas"
   ]
  },
  {
   "cell_type": "code",
   "execution_count": 12,
   "metadata": {},
   "outputs": [
    {
     "name": "stdout",
     "output_type": "stream",
     "text": [
      "[135.53449406   0.51227336   7.39819848   1.45471912   0.382301  ]\n"
     ]
    }
   ],
   "source": [
    "betas = np.dot((np.dot(np.linalg.inv(np.dot(X.T,X)),X.T)),y)\n",
    "print(betas)"
   ]
  },
  {
   "cell_type": "markdown",
   "metadata": {},
   "source": [
    "We plot some of our results"
   ]
  },
  {
   "cell_type": "code",
   "execution_count": 13,
   "metadata": {},
   "outputs": [
    {
     "data": {
      "text/plain": [
       "array([178.79182744, 193.64775475, 184.9391077 , 181.35319422,\n",
       "       184.08531878, 173.15682052, 171.90590231, 184.42683435,\n",
       "       180.84092086, 186.47592777, 180.67016307, 177.76728073,\n",
       "       174.52288281, 158.07452171, 170.8813556 , 164.22180198,\n",
       "       174.80878466, 163.70952862, 182.54849871, 166.2708954 ,\n",
       "       174.46726909, 164.22180198, 180.3286475 , 168.83226218,\n",
       "       172.93044902, 163.70952862, 175.7181873 , 186.98820113,\n",
       "       162.51422413, 165.75862204, 163.88028641, 175.20591395,\n",
       "       162.8557397 , 176.05970287, 182.89001428, 180.84092086,\n",
       "       163.70952862, 163.53877084, 163.70952862, 168.31998882,\n",
       "       173.66909388, 174.18136724, 177.25500737, 177.76728073,\n",
       "       189.54956791, 170.8813556 , 166.2708954 , 164.22180198,\n",
       "       183.91456099])"
      ]
     },
     "execution_count": 13,
     "metadata": {},
     "output_type": "execute_result"
    }
   ],
   "source": [
    "y_hat2 = np.dot(X[:,0:3], betas[0:3])\n",
    "y_hat2"
   ]
  },
  {
   "cell_type": "markdown",
   "metadata": {},
   "source": [
    "Then we created fitted values of some of the regression lines"
   ]
  },
  {
   "cell_type": "code",
   "execution_count": 14,
   "metadata": {},
   "outputs": [
    {
     "data": {
      "text/plain": [
       "<matplotlib.legend.Legend at 0x15e079a0e50>"
      ]
     },
     "execution_count": 14,
     "metadata": {},
     "output_type": "execute_result"
    },
    {
     "data": {
      "image/png": "[encoded data removed]",
      "text/plain": [
       "<Figure size 432x288 with 1 Axes>"
      ]
     },
     "metadata": {
      "needs_background": "light"
     },
     "output_type": "display_data"
    }
   ],
   "source": [
    "y_hat2 = betas[0] + betas[1]*X[:,1] + betas[2]*np.mean(X[:,2])\n",
    "y_Number2 = betas[0] + betas[1]*X[:,1] + betas[2]*np.mean(X[:,2]) +  betas[3]\n",
    "y_Number3 = betas[0] + betas[1]*X[:,1] + betas[2]*np.mean(X[:,2]) +  betas[4]\n",
    "\n",
    "fig, ax = plt.subplots()\n",
    "ax.scatter(x=X[:,1], y=y)\n",
    "ax.plot(X[:,1], y_hat2, color=\"red\", label=\"Main\")\n",
    "ax.plot(X[:,1], y_Number2, color=\"yellow\", label=\"Number2\")\n",
    "ax.plot(X[:,1], y_Number3, color=\"purple\", label=\"Number3\")\n",
    "ax.set_xlabel(\"Height\")\n",
    "ax.set_ylabel(\"Weight\")\n",
    "ax.legend()"
   ]
  },
  {
   "cell_type": "markdown",
   "metadata": {},
   "source": [
    "We visualized the regressions.\n",
    "\n",
    "The \"Main\" represented as the red line shows the actual regression line without any form of added controlling variables. \n",
    "\n",
    "Then we introduced an interaction term to model how two or more independent variables together impact the target variable.\n",
    "\n",
    "Number 2 and Number 3 are dummy variables that would create new lines based on a variable related to the x- and y-variables that make up the \"Main\" line.\n",
    "\n",
    "These could be made into varibles such as gender, occupation, religion and so on. We see that these variables make no large change in the \"Main\" line, but that all depends on the value introduced."
   ]
  },
  {
   "cell_type": "markdown",
   "metadata": {},
   "source": [
    "OLS regression"
   ]
  },
  {
   "cell_type": "code",
   "execution_count": 15,
   "metadata": {},
   "outputs": [
    {
     "data": {
      "text/html": [
       "<table class=\"simpletable\">\n",
       "<caption>OLS Regression Results</caption>\n",
       "<tr>\n",
       "  <th>Dep. Variable:</th>         <td>Height</td>      <th>  R-squared:         </th> <td>   0.730</td>\n",
       "</tr>\n",
       "<tr>\n",
       "  <th>Model:</th>                   <td>OLS</td>       <th>  Adj. R-squared:    </th> <td>   0.705</td>\n",
       "</tr>\n",
       "<tr>\n",
       "  <th>Method:</th>             <td>Least Squares</td>  <th>  F-statistic:       </th> <td>   29.71</td>\n",
       "</tr>\n",
       "<tr>\n",
       "  <th>Date:</th>             <td>Mon, 07 Nov 2022</td> <th>  Prob (F-statistic):</th> <td>5.36e-12</td>\n",
       "</tr>\n",
       "<tr>\n",
       "  <th>Time:</th>                 <td>15:37:34</td>     <th>  Log-Likelihood:    </th> <td> -151.30</td>\n",
       "</tr>\n",
       "<tr>\n",
       "  <th>No. Observations:</th>      <td>    49</td>      <th>  AIC:               </th> <td>   312.6</td>\n",
       "</tr>\n",
       "<tr>\n",
       "  <th>Df Residuals:</th>          <td>    44</td>      <th>  BIC:               </th> <td>   322.0</td>\n",
       "</tr>\n",
       "<tr>\n",
       "  <th>Df Model:</th>              <td>     4</td>      <th>                     </th>     <td> </td>   \n",
       "</tr>\n",
       "<tr>\n",
       "  <th>Covariance Type:</th>      <td>nonrobust</td>    <th>                     </th>     <td> </td>   \n",
       "</tr>\n",
       "</table>\n",
       "<table class=\"simpletable\">\n",
       "<tr>\n",
       "      <td></td>         <th>coef</th>     <th>std err</th>      <th>t</th>      <th>P>|t|</th>  <th>[0.025</th>    <th>0.975]</th>  \n",
       "</tr>\n",
       "<tr>\n",
       "  <th>Intercept</th> <td>  135.5345</td> <td>    5.626</td> <td>   24.092</td> <td> 0.000</td> <td>  124.197</td> <td>  146.872</td>\n",
       "</tr>\n",
       "<tr>\n",
       "  <th>Weight</th>    <td>    0.5123</td> <td>    0.087</td> <td>    5.873</td> <td> 0.000</td> <td>    0.336</td> <td>    0.688</td>\n",
       "</tr>\n",
       "<tr>\n",
       "  <th>Number1</th>   <td>    7.3982</td> <td>    2.125</td> <td>    3.482</td> <td> 0.001</td> <td>    3.116</td> <td>   11.681</td>\n",
       "</tr>\n",
       "<tr>\n",
       "  <th>Number2</th>   <td>    1.4547</td> <td>    1.862</td> <td>    0.781</td> <td> 0.439</td> <td>   -2.298</td> <td>    5.207</td>\n",
       "</tr>\n",
       "<tr>\n",
       "  <th>Number3</th>   <td>    0.3823</td> <td>    1.616</td> <td>    0.237</td> <td> 0.814</td> <td>   -2.875</td> <td>    3.640</td>\n",
       "</tr>\n",
       "</table>\n",
       "<table class=\"simpletable\">\n",
       "<tr>\n",
       "  <th>Omnibus:</th>       <td> 2.884</td> <th>  Durbin-Watson:     </th> <td>   2.364</td>\n",
       "</tr>\n",
       "<tr>\n",
       "  <th>Prob(Omnibus):</th> <td> 0.236</td> <th>  Jarque-Bera (JB):  </th> <td>   1.871</td>\n",
       "</tr>\n",
       "<tr>\n",
       "  <th>Skew:</th>          <td> 0.370</td> <th>  Prob(JB):          </th> <td>   0.392</td>\n",
       "</tr>\n",
       "<tr>\n",
       "  <th>Kurtosis:</th>      <td> 3.607</td> <th>  Cond. No.          </th> <td>    493.</td>\n",
       "</tr>\n",
       "</table><br/><br/>Notes:<br/>[1] Standard Errors assume that the covariance matrix of the errors is correctly specified."
      ],
      "text/plain": [
       "<class 'statsmodels.iolib.summary.Summary'>\n",
       "\"\"\"\n",
       "                            OLS Regression Results                            \n",
       "==============================================================================\n",
       "Dep. Variable:                 Height   R-squared:                       0.730\n",
       "Model:                            OLS   Adj. R-squared:                  0.705\n",
       "Method:                 Least Squares   F-statistic:                     29.71\n",
       "Date:                Mon, 07 Nov 2022   Prob (F-statistic):           5.36e-12\n",
       "Time:                        15:37:34   Log-Likelihood:                -151.30\n",
       "No. Observations:                  49   AIC:                             312.6\n",
       "Df Residuals:                      44   BIC:                             322.0\n",
       "Df Model:                           4                                         \n",
       "Covariance Type:            nonrobust                                         \n",
       "==============================================================================\n",
       "                 coef    std err          t      P>|t|      [0.025      0.975]\n",
       "------------------------------------------------------------------------------\n",
       "Intercept    135.5345      5.626     24.092      0.000     124.197     146.872\n",
       "Weight         0.5123      0.087      5.873      0.000       0.336       0.688\n",
       "Number1        7.3982      2.125      3.482      0.001       3.116      11.681\n",
       "Number2        1.4547      1.862      0.781      0.439      -2.298       5.207\n",
       "Number3        0.3823      1.616      0.237      0.814      -2.875       3.640\n",
       "==============================================================================\n",
       "Omnibus:                        2.884   Durbin-Watson:                   2.364\n",
       "Prob(Omnibus):                  0.236   Jarque-Bera (JB):                1.871\n",
       "Skew:                           0.370   Prob(JB):                        0.392\n",
       "Kurtosis:                       3.607   Cond. No.                         493.\n",
       "==============================================================================\n",
       "\n",
       "Notes:\n",
       "[1] Standard Errors assume that the covariance matrix of the errors is correctly specified.\n",
       "\"\"\""
      ]
     },
     "execution_count": 15,
     "metadata": {},
     "output_type": "execute_result"
    }
   ],
   "source": [
    "import statsmodels.formula.api as smf\n",
    "\n",
    "sm_mod1 = smf.ols(formula = \"Height ~ Weight + Number1 + Number2 + Number3\", data=df1).fit()\n",
    "sm_mod1.summary()"
   ]
  },
  {
   "cell_type": "markdown",
   "metadata": {},
   "source": [
    "We see that the beta values from the manual walkthrough is the same as the OLS regression results through the Statsmodel package under \"coef\".\n",
    "\n",
    "Adjusted r-squared at 70,5%. It identifies the percentage of variance in the target field that is explained by the input or inputs. It is realatively high and should work well as an identification for the variables.\n",
    "\n",
    "Since our added varibales are \"dummys\" we might end up with multicollinearity which refers to a situation where a number of independent variables in a linear regression model are closely correlated to one another and it can lead to skewed results.\n",
    "\n"
   ]
  }
 ],
 "metadata": {
  "kernelspec": {
   "display_name": "Python 3.9.12 ('base')",
   "language": "python",
   "name": "python3"
  },
  "language_info": {
   "codemirror_mode": {
    "name": "ipython",
    "version": 3
   },
   "file_extension": ".py",
   "mimetype": "text/x-python",
   "name": "python",
   "nbconvert_exporter": "python",
   "pygments_lexer": "ipython3",
   "version": "3.9.12"
  },
  "orig_nbformat": 4,
  "vscode": {
   "interpreter": {
    "hash": "8b7a620a1850c7f132df4b2571f50329b6b68cfcdaf2e8da72dfb2f918958b3b"
   }
  }
 },
 "nbformat": 4,
 "nbformat_minor": 2
}
